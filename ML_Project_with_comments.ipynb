{
  "cells": [
    {
      "cell_type": "code",
      "execution_count": 13,
      "metadata": {
        "colab": {
          "base_uri": "https://localhost:8080/"
        },
        "id": "hOAbE1X4EO_Y",
        "outputId": "2a7d86cf-8a87-4571-bec4-12dfd51837c8"
      },
      "outputs": [
        {
          "name": "stdout",
          "output_type": "stream",
          "text": [
            "The autoreload extension is already loaded. To reload it, use:\n",
            "  %reload_ext autoreload\n"
          ]
        }
      ],
      "source": [
        "import numpy as np\n",
        "import pandas as pd\n",
        "from sklearn.model_selection import train_test_split\n",
        "import matplotlib.pyplot as plt\n",
        "%load_ext autoreload\n",
        "%autoreload 2"
      ]
    },
    {
      "cell_type": "code",
      "execution_count": 14,
      "metadata": {
        "colab": {
          "base_uri": "https://localhost:8080/"
        },
        "id": "ju9d2WToESJz",
        "outputId": "329ff68f-82aa-475c-ec1f-c271199f879b"
      },
      "outputs": [
        {
          "name": "stdout",
          "output_type": "stream",
          "text": [
            "      Time       Date   High    Low     Volume   Open  Close  TargetNextClose\n",
            "1663     0   3-Jan-11  47.18  46.41  111280407  46.52  47.08            47.33\n",
            "1662     1   4-Jan-11  47.50  46.88   77337001  47.49  47.33            47.71\n",
            "1661     2   5-Jan-11  47.76  47.07   63879193  47.08  47.71            47.68\n",
            "1660     3   6-Jan-11  47.89  47.56   75106626  47.82  47.68            48.02\n",
            "1659     4   7-Jan-11  48.05  47.41   77982212  47.71  48.02            48.92\n",
            "1658     5  10-Jan-11  49.03  48.17  112139482  48.40  48.92            48.81\n",
            "1657     6  11-Jan-11  49.28  48.50  111019993  49.27  48.81            49.20\n",
            "1656     7  12-Jan-11  49.20  48.86   75644310  49.04  49.20            49.38\n",
            "1655     8  13-Jan-11  49.52  49.12   74536182  49.31  49.38            49.78\n",
            "1654     9  14-Jan-11  49.78  49.21   77209748  49.41  49.78            48.66\n",
            "(1663, 8)\n",
            "    High    Low     Volume   Open  Close\n",
            "0  47.18  46.41  111280407  46.52  47.08\n",
            "1  47.50  46.88   77337001  47.49  47.33\n",
            "2  47.76  47.07   63879193  47.08  47.71\n",
            "3  47.89  47.56   75106626  47.82  47.68\n",
            "4  48.05  47.41   77982212  47.71  48.02\n",
            "5  49.03  48.17  112139482  48.40  48.92\n",
            "6  49.28  48.50  111019993  49.27  48.81\n",
            "7  49.20  48.86   75644310  49.04  49.20\n",
            "8  49.52  49.12   74536182  49.31  49.38\n",
            "9  49.78  49.21   77209748  49.41  49.78\n"
          ]
        }
      ],
      "source": [
        "url = \"https://github.com/swarj/MLProject/raw/main/apple_share_price.csv\" #get the dataset\n",
        "raw_df = pd.read_csv(url)\n",
        "raw_df = raw_df.loc[::-1] #reverse order of rows to chronologically make it go from past --> present\n",
        "raw_df = raw_df.assign(Time=range(len(raw_df)))\n",
        "df = raw_df.reindex(['Time','Date', 'High', 'Low', 'Volume', 'Open', 'Close'], axis = 1) #make target variable last column, if we want close instead of open we can switch it\n",
        "#we can try to predict the close value for the following day, need to add target close value  \n",
        "df['TargetNextClose'] = df['Close'].shift(-1)\n",
        "df.drop(df.tail(1).index,inplace=True) # drop last rows\n",
        "df.style\n",
        "print(df.head(10))\n",
        "print(df.shape)\n",
        "df.reset_index(inplace=True)\n",
        "data_set = df.iloc[:, 0:8]\n",
        "pd.set_option('display.max_columns', None)\n",
        "data_set = data_set.drop(columns=[\"Date\", \"Time\", \"index\"], axis=1)\n",
        "print(data_set.head(10))"
      ]
    },
    {
      "cell_type": "code",
      "execution_count": 15,
      "metadata": {
        "id": "P1bZPWz_EYhu"
      },
      "outputs": [],
      "source": [
        "from sklearn.preprocessing import MinMaxScaler\n",
        "sc = MinMaxScaler(feature_range=(0,1))"
      ]
    },
    {
      "cell_type": "code",
      "execution_count": 16,
      "metadata": {
        "colab": {
          "base_uri": "https://localhost:8080/",
          "height": 640
        },
        "id": "pIs9rzt2Ga2T",
        "outputId": "efda0fba-1ec2-4583-bab8-03d54467452b"
      },
      "outputs": [
        {
          "name": "stdout",
          "output_type": "stream",
          "text": [
            "Training Loss: [[207.22675452]]\n",
            "Test Loss: 157.43420590781156\n",
            "Training Loss: [[194.31841257]]\n",
            "Test Loss: 149.3938456079662\n",
            "Training Loss: [[176.88646613]]\n",
            "Test Loss: 138.17396259530753\n",
            "Training Loss: [[153.42796923]]\n",
            "Test Loss: 122.66996983469112\n",
            "Training Loss: [[123.69829165]]\n",
            "Test Loss: 102.30562215150636\n",
            "Training Loss: [[88.15619994]]\n",
            "Test Loss: 76.62742528908201\n",
            "Training Loss: [[50.65552797]]\n",
            "Test Loss: 47.003965959644404\n",
            "Training Loss: [[26.68443754]]\n",
            "Test Loss: 25.678663898420012\n",
            "Training Loss: [[18.52614833]]\n",
            "Test Loss: 18.360175852227886\n",
            "Training Loss: [[15.3951177]]\n",
            "Test Loss: 15.56603122303544\n"
          ]
        }
      ],
      "source": [
        "# Define the hyperparameters. These values will change based on the experiment \n",
        "hidden_layer_size = 64 # set hidden layer neurons\n",
        "input_dimension = 4 # set number of input layer dimension \n",
        "l_r = 0.0001 # set learning rate\n",
        "epochs = 100 # number of iterations\n",
        "#################\n",
        "scale_factor = 0.01 #to multiply the initial random weight values with small factor\n",
        "# Define size of training set and size of testing set (80% training, 20% testing)\n",
        "s = int(len(data_set) * 0.8)\n",
        "# initialize weight matrices and biases with random numbers\n",
        "input_hidden = np.random.randn(hidden_layer_size, input_dimension) * scale_factor # input to hidden weight\n",
        "hidden_hidden = np.random.randn(hidden_layer_size, hidden_layer_size) * scale_factor # recurrent weight\n",
        "hidden_output = np.random.randn(1, hidden_layer_size) * scale_factor # hidden to output determine by how much of hidden layer size\n",
        "hidden_bias = np.zeros((hidden_layer_size, 1)) # hidden layer bias\n",
        "output_bias = np.zeros((1, 1)) # output layer bias\n",
        "# defind the forward pass function\n",
        "def forward_pass(X, Y, hidden_state): \n",
        "    # X is an input sequence, \n",
        "    # Y is an output of that input sequence\n",
        "    # hidden_state is a hidden state of weights\n",
        "\n",
        "    # to store the store variables   \n",
        "    store = {}  \n",
        "    # initialize the hidden state and the loss  \n",
        "    # store the hidden state \n",
        "    store['hidden'] = {}\n",
        "    # store the input \n",
        "    store['input'] = {}\n",
        "    # create a temporary hidden state form the preveious hidden state\n",
        "    store['hidden'][-1] = np.copy(hidden_state)\n",
        "    # set the loss to 0\n",
        "    loss = 0\n",
        "    # loop for forward pass\n",
        "    for t in range(len(X)):\n",
        "        # store the input in time step\n",
        "        store['input'][t] = X[t].reshape(-1, 1)\n",
        "        # store the hidden state in time step\n",
        "        store['hidden'][t] = np.tanh(np.dot(input_hidden, store['input'][t]) + np.dot(hidden_hidden, store['hidden'][t-1]) + hidden_bias)\n",
        "        # calculate the predicted ouput\n",
        "        Y_pred = np.dot(hidden_output, store['hidden'][t]) + output_bias\n",
        "        # calculate the update loss\n",
        "        loss += (Y[t] - Y_pred)**2\n",
        "    # this is store the predicted ouput    \n",
        "    store['loss'] = loss    \n",
        "    # this is store the loss  \n",
        "    store['Y_pred'] = Y_pred    \n",
        "    return store\n",
        "# defind the backward pass function\n",
        "def backward_pass(X, Y, store):\n",
        "    # X is the input sequence\n",
        "    # Y is an output of that input sequence\n",
        "    # initialize the gradients\n",
        "      # input to hidden gradient\n",
        "    input_hidden_grad = np.zeros_like(input_hidden)      \n",
        "      # hidden to hidden gradient\n",
        "    hidden_hidden_grad = np.zeros_like(hidden_hidden)\n",
        "      # hidden to output gradient    \n",
        "    hidden_output_grad = np.zeros_like(hidden_output) \n",
        "      # hidden layer bias gradient   \n",
        "    hidden_bias_grad = np.zeros_like(hidden_bias) \n",
        "      # output layer bias gradient       \n",
        "    output_bias_grad = np.zeros_like(output_bias)   \n",
        "      # next hidden state gradient     \n",
        "    next_hidden_grad = np.zeros_like(store['hidden'][0]) \n",
        "    # loop for backward pass\n",
        "    for t in reversed(range(len(X))):\n",
        "        # calcualte the derivative of the loss\n",
        "        dy = -2 * (Y[t] - store['Y_pred'])\n",
        "        hidden_output_grad += np.dot(dy, store['hidden'][t].T)\n",
        "        output_bias_grad += dy\n",
        "        # calculate the derivative of the hidden state\n",
        "        delta_hidden = np.dot(hidden_output.T, dy) + next_hidden_grad\n",
        "        raw_hidden = (1 - store['hidden'][t]**2) * delta_hidden\n",
        "        # Update the gradients for the hidden layer\n",
        "        hidden_bias_grad += raw_hidden\n",
        "        input_hidden_grad += np.dot(raw_hidden, store['input'][t].T)\n",
        "        hidden_hidden_grad += np.dot(raw_hidden, store['hidden'][t-1].T)\n",
        "        next_hidden_grad = np.dot(hidden_hidden.T, raw_hidden)\n",
        "    # clip the gradients to prevent it from becoming too large during training\n",
        "    for dparam in [input_hidden_grad, hidden_hidden_grad, hidden_output_grad, hidden_bias_grad, output_bias_grad]:\n",
        "        np.clip(dparam, -5, 5, out=dparam)        \n",
        "    return input_hidden_grad, hidden_hidden_grad, hidden_output_grad, hidden_bias_grad, output_bias_grad\n",
        "# set the initial hidden state to None\n",
        "hidden_state = np.zeros((hidden_layer_size, 1))\n",
        "data = data_set\n",
        "data = sc.fit_transform(data)\n",
        "data = pd.DataFrame(data)\n",
        "#split the dataset into testing and training\n",
        "X = np.array(data.iloc[:, :-1])[:s]                     #Training set for the input attributes\n",
        "X_test = np.array(data.iloc[:, :-1])[s:]                #Testing set for the input attributes\n",
        "Y = np.array(data.iloc[:, -1]).reshape(-1, 1)[:s]       #Training set for output\n",
        "Y_test = np.array(data.iloc[:, -1]).reshape(-1, 1)[s:]  #Testing set for output\n",
        "# create an empty list for loss\n",
        "loss_his = []\n",
        "test_loss_his = []\n",
        "#training \n",
        "for i in range(epochs):    \n",
        "    store = forward_pass(X, Y, hidden_state)\n",
        "    input_hidden_grad, hidden_hidden_grad, hidden_output_grad, hidden_bias_grad, output_bias_grad = backward_pass(X, Y, store)\n",
        "    input_hidden = input_hidden - (l_r * input_hidden_grad)\n",
        "    hidden_hidden = hidden_hidden - (l_r * hidden_hidden_grad)\n",
        "    hidden_output = hidden_output - (l_r * hidden_output_grad)\n",
        "    hidden_bias = hidden_bias - (l_r * hidden_bias_grad)\n",
        "    output_bias = output_bias - (l_r * output_bias_grad)\n",
        "    hidden_state = store['hidden'][len(X) - 1]\n",
        "    # adding the value of the loss\n",
        "    loss_his.append(store['loss'])\n",
        "    # compute loss on testing set \n",
        "    test_store = forward_pass(X_test, Y_test, hidden_state)\n",
        "    test_loss = test_store['loss'][0][0] \n",
        "    test_loss_his.append(test_loss)\n",
        "\n",
        "    if i % 10 == 0:\n",
        "        print('Training Loss:', store['loss'])\n",
        "        print('Test Loss:', test_loss)\n",
        "# flatten the loss history arrays\n",
        "train_losses = np.array(loss_his).flatten()\n",
        "test_losses = np.array(test_loss_his).flatten()\n"
      ]
    },
    {
      "cell_type": "code",
      "execution_count": 17,
      "metadata": {},
      "outputs": [
        {
          "data": {
            "image/png": "[encoded data removed]",
            "text/plain": [
              "<Figure size 432x288 with 1 Axes>"
            ]
          },
          "metadata": {
            "needs_background": "light"
          },
          "output_type": "display_data"
        },
        {
          "name": "stdout",
          "output_type": "stream",
          "text": [
            "Mean Squared Error: 0.07645740727695194\n"
          ]
        }
      ],
      "source": [
        "# plot\n",
        "plt.plot(train_losses, label='Training Loss')\n",
        "plt.plot(test_losses, label='Testing Loss')\n",
        "plt.xlabel('Iterations')\n",
        "plt.ylabel('Loss')\n",
        "plt.legend()\n",
        "plt.show()       \n",
        "# predict the test set\n",
        "Y_preds = []\n",
        "for t in range(len(X_test)):\n",
        "    #obtain values from the forward pass on the testing sets\n",
        "    store = forward_pass([X_test[t]], [Y_test[t]], hidden_state)\n",
        "    #append the prediction values of Y\n",
        "    Y_preds.append(store['Y_pred'])\n",
        "# calculate the MSE\n",
        "MSE = np.mean((Y_test - Y_preds)**2)\n",
        "print('Mean Squared Error:', MSE)"
      ]
    }
  ],
  "metadata": {
    "colab": {
      "provenance": [],
      "toc_visible": true
    },
    "kernelspec": {
      "display_name": "Python 3",
      "name": "python3"
    },
    "language_info": {
      "codemirror_mode": {
        "name": "ipython",
        "version": 3
      },
      "file_extension": ".py",
      "mimetype": "text/x-python",
      "name": "python",
      "nbconvert_exporter": "python",
      "pygments_lexer": "ipython3",
      "version": "3.10.11"
    }
  },
  "nbformat": 4,
  "nbformat_minor": 0
}
