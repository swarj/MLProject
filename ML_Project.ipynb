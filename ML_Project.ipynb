{
  "cells": [
    {
      "cell_type": "code",
      "execution_count": 13,
      "metadata": {
        "id": "ffQV-WGqaAff"
      },
      "outputs": [
        {
          "name": "stdout",
          "output_type": "stream",
          "text": [
            "The autoreload extension is already loaded. To reload it, use:\n",
            "  %reload_ext autoreload\n"
          ]
        }
      ],
      "source": [
        "import numpy as np\n",
        "import pandas as pd\n",
        "from sklearn.model_selection import train_test_split\n",
        "import matplotlib.pyplot as plt\n",
        "%load_ext autoreload\n",
        "%autoreload 2"
      ]
    },
    {
      "cell_type": "code",
      "execution_count": 14,
      "metadata": {
        "colab": {
          "base_uri": "https://localhost:8080/",
          "height": 1000
        },
        "id": "FyJNyGQtlTV5",
        "outputId": "23a02ab9-4a44-4f0e-adbc-b30c7dc45866"
      },
      "outputs": [
        {
          "name": "stdout",
          "output_type": "stream",
          "text": [
            "      Time       Date   High    Low     Volume   Open  Close  TargetNextClose\n",
            "1663     0   3-Jan-11  47.18  46.41  111280407  46.52  47.08            47.33\n",
            "1662     1   4-Jan-11  47.50  46.88   77337001  47.49  47.33            47.71\n",
            "1661     2   5-Jan-11  47.76  47.07   63879193  47.08  47.71            47.68\n",
            "1660     3   6-Jan-11  47.89  47.56   75106626  47.82  47.68            48.02\n",
            "1659     4   7-Jan-11  48.05  47.41   77982212  47.71  48.02            48.92\n",
            "1658     5  10-Jan-11  49.03  48.17  112139482  48.40  48.92            48.81\n",
            "1657     6  11-Jan-11  49.28  48.50  111019993  49.27  48.81            49.20\n",
            "1656     7  12-Jan-11  49.20  48.86   75644310  49.04  49.20            49.38\n",
            "1655     8  13-Jan-11  49.52  49.12   74536182  49.31  49.38            49.78\n",
            "1654     9  14-Jan-11  49.78  49.21   77209748  49.41  49.78            48.66\n",
            "(1663, 8)\n",
            "    High    Low     Volume   Open  Close\n",
            "0  47.18  46.41  111280407  46.52  47.08\n",
            "1  47.50  46.88   77337001  47.49  47.33\n",
            "2  47.76  47.07   63879193  47.08  47.71\n",
            "3  47.89  47.56   75106626  47.82  47.68\n",
            "4  48.05  47.41   77982212  47.71  48.02\n",
            "5  49.03  48.17  112139482  48.40  48.92\n",
            "6  49.28  48.50  111019993  49.27  48.81\n",
            "7  49.20  48.86   75644310  49.04  49.20\n",
            "8  49.52  49.12   74536182  49.31  49.38\n",
            "9  49.78  49.21   77209748  49.41  49.78\n"
          ]
        }
      ],
      "source": [
        "url = \"https://github.com/swarj/MLProject/raw/main/apple_share_price.csv\" #get the dataset\n",
        "raw_df = pd.read_csv(url)\n",
        "raw_df = raw_df.loc[::-1] #reverse order of rows to chronologically make it go from past --> present\n",
        "raw_df = raw_df.assign(Time=range(len(raw_df)))\n",
        "df = raw_df.reindex(['Time','Date', 'High', 'Low', 'Volume', 'Open', 'Close'], axis = 1) #make target variable last column, if we want close instead of open we can switch it\n",
        "#we can try to predict the close value for the following day, need to add target close value  \n",
        "df['TargetNextClose'] = df['Close'].shift(-1)\n",
        "df.drop(df.tail(1).index,inplace=True) # drop last rows\n",
        "df.style\n",
        "print(df.head(10))\n",
        "print(df.shape)\n",
        "df.reset_index(inplace=True)\n",
        "data_set = df.iloc[:, 0:8]\n",
        "pd.set_option('display.max_columns', None)\n",
        "data_set = data_set.drop(columns=[\"Date\", \"Time\", \"index\"], axis=1)\n",
        "print(data_set.head(10))"
      ]
    },
    {
      "cell_type": "code",
      "execution_count": 15,
      "metadata": {},
      "outputs": [],
      "source": [
        "from sklearn.preprocessing import MinMaxScaler\n",
        "sc = MinMaxScaler(feature_range=(0,1))"
      ]
    },
    {
      "cell_type": "code",
      "execution_count": 16,
      "metadata": {},
      "outputs": [
        {
          "name": "stdout",
          "output_type": "stream",
          "text": [
            "Loss: [[207.90704672]]\n",
            "Loss: [[170.02763226]]\n",
            "Loss: [[128.25493963]]\n",
            "Loss: [[81.46596946]]\n",
            "Loss: [[38.65296993]]\n",
            "Loss: [[21.49790207]]\n",
            "Loss: [[14.35808092]]\n",
            "Loss: [[11.27163775]]\n",
            "Loss: [[10.34045738]]\n",
            "Loss: [[11.60192821]]\n"
          ]
        },
        {
          "data": {
            "image/png": "[encoded data removed]",
            "text/plain": [
              "<Figure size 640x480 with 1 Axes>"
            ]
          },
          "metadata": {},
          "output_type": "display_data"
        },
        {
          "name": "stdout",
          "output_type": "stream",
          "text": [
            "Mean Squared Error: 0.06925742331729878\n",
            "Predictions: [array([[0.45265545]]), array([[0.44505608]]), array([[0.44050309]]), array([[0.43592308]]), array([[0.42835969]]), array([[0.42455826]]), array([[0.41763449]]), array([[0.36585533]]), array([[0.34784965]]), array([[0.32856936]]), array([[0.32289489]]), array([[0.32422681]]), array([[0.32934831]]), array([[0.32580311]]), array([[0.31987245]]), array([[0.32012842]]), array([[0.31961728]]), array([[0.3210635]]), array([[0.30650276]]), array([[0.2998441]]), array([[0.30538414]]), array([[0.31600377]]), array([[0.32301309]]), array([[0.32750401]]), array([[0.33202864]]), array([[0.33957978]]), array([[0.34862898]]), array([[0.35900568]]), array([[0.36442821]]), array([[0.37000436]]), array([[0.37107841]]), array([[0.37060196]]), array([[0.36098793]]), array([[0.36115669]]), array([[0.36844814]]), array([[0.3726385]]), array([[0.3734781]]), array([[0.37242458]]), array([[0.37009975]]), array([[0.36572555]]), array([[0.36099875]]), array([[0.3606375]]), array([[0.35533674]]), array([[0.34545347]]), array([[0.34381867]]), array([[0.34050813]]), array([[0.3442734]]), array([[0.34371277]]), array([[0.32461973]]), array([[0.31669963]]), array([[0.31639459]]), array([[0.32248742]]), array([[0.32898272]]), array([[0.33784279]]), array([[0.33815822]]), array([[0.33684599]]), array([[0.34234322]]), array([[0.34662709]]), array([[0.35201249]]), array([[0.35565434]]), array([[0.35683524]]), array([[0.35802637]]), array([[0.36466687]]), array([[0.36761111]]), array([[0.37330833]]), array([[0.37752391]]), array([[0.37786374]]), array([[0.37370982]]), array([[0.3654725]]), array([[0.35468628]]), array([[0.37636336]]), array([[0.39132497]]), array([[0.40422218]]), array([[0.41223467]]), array([[0.41813656]]), array([[0.42012604]]), array([[0.42384928]]), array([[0.42844718]]), array([[0.43701924]]), array([[0.44444255]]), array([[0.44832998]]), array([[0.4493412]]), array([[0.44911944]]), array([[0.45078594]]), array([[0.45535136]]), array([[0.45492807]]), array([[0.45714173]]), array([[0.45587687]]), array([[0.45365758]]), array([[0.45447216]]), array([[0.45212534]]), array([[0.44604079]]), array([[0.44261343]]), array([[0.43941498]]), array([[0.43403377]]), array([[0.43110684]]), array([[0.43138602]]), array([[0.43792546]]), array([[0.44241877]]), array([[0.44170606]]), array([[0.43325109]]), array([[0.42063553]]), array([[0.41145476]]), array([[0.42501368]]), array([[0.43286397]]), array([[0.45960381]]), array([[0.47623074]]), array([[0.48796598]]), array([[0.4874818]]), array([[0.48834636]]), array([[0.4942625]]), array([[0.48920971]]), array([[0.4839429]]), array([[0.48598635]]), array([[0.49119401]]), array([[0.48746716]]), array([[0.48402523]]), array([[0.48563638]]), array([[0.48826117]]), array([[0.49022481]]), array([[0.49223013]]), array([[0.49564944]]), array([[0.50172904]]), array([[0.50925128]]), array([[0.51557937]]), array([[0.51560179]]), array([[0.52080488]]), array([[0.52293263]]), array([[0.5268953]]), array([[0.52131678]]), array([[0.5211746]]), array([[0.5202492]]), array([[0.52277496]]), array([[0.52255383]]), array([[0.50274213]]), array([[0.50291048]]), array([[0.49801223]]), array([[0.49561055]]), array([[0.48657002]]), array([[0.48066763]]), array([[0.47381978]]), array([[0.46213708]]), array([[0.46199624]]), array([[0.46585452]]), array([[0.45778779]]), array([[0.45253324]]), array([[0.44518607]]), array([[0.43497316]]), array([[0.4348492]]), array([[0.43550948]]), array([[0.44950154]]), array([[0.45687775]]), array([[0.46349905]]), array([[0.47264525]]), array([[0.47216432]]), array([[0.4764616]]), array([[0.47735496]]), array([[0.47354188]]), array([[0.47260476]]), array([[0.46591942]]), array([[0.46134631]]), array([[0.45853133]]), array([[0.45978309]]), array([[0.46063536]]), array([[0.46830232]]), array([[0.47896]]), array([[0.48700383]]), array([[0.49199494]]), array([[0.49984867]]), array([[0.50295208]]), array([[0.50656093]]), array([[0.51134944]]), array([[0.51777408]]), array([[0.52025429]]), array([[0.51698805]]), array([[0.51632394]]), array([[0.52045323]]), array([[0.5231604]]), array([[0.52237799]]), array([[0.51854291]]), array([[0.51322903]]), array([[0.51422943]]), array([[0.51526619]]), array([[0.51863229]]), array([[0.52582411]]), array([[0.53208981]]), array([[0.53564773]]), array([[0.53584618]]), array([[0.53793344]]), array([[0.53623646]]), array([[0.54267211]]), array([[0.54293249]]), array([[0.54479699]]), array([[0.54711608]]), array([[0.54572624]]), array([[0.54948027]]), array([[0.55650589]]), array([[0.56107597]]), array([[0.55689611]]), array([[0.55191343]]), array([[0.57328721]]), array([[0.59494989]]), array([[0.60737316]]), array([[0.61702065]]), array([[0.62636825]]), array([[0.63532652]]), array([[0.63904969]]), array([[0.64551668]]), array([[0.65126632]]), array([[0.65538649]]), array([[0.66388701]]), array([[0.66946614]]), array([[0.67144191]]), array([[0.67658144]]), array([[0.68034968]]), array([[0.68437663]]), array([[0.68063002]]), array([[0.6841812]]), array([[0.6855906]]), array([[0.69106999]]), array([[0.70015602]]), array([[0.70185109]]), array([[0.70353639]]), array([[0.70507554]]), array([[0.70514162]]), array([[0.69991666]]), array([[0.70238031]]), array([[0.70344158]]), array([[0.70539233]]), array([[0.70671026]]), array([[0.71263316]]), array([[0.71090277]]), array([[0.71402057]]), array([[0.71656528]]), array([[0.71415872]]), array([[0.71786437]]), array([[0.71929403]]), array([[0.71281657]]), array([[0.71861443]]), array([[0.73051393]]), array([[0.7380708]]), array([[0.73973603]]), array([[0.7402599]]), array([[0.74116761]]), array([[0.74368545]]), array([[0.74374781]]), array([[0.74291775]]), array([[0.74101285]]), array([[0.73203873]]), array([[0.72732553]]), array([[0.72679595]]), array([[0.72500979]]), array([[0.72513983]]), array([[0.72442161]]), array([[0.72462831]]), array([[0.7282389]]), array([[0.73557864]]), array([[0.74151426]]), array([[0.74342606]]), array([[0.74351379]]), array([[0.74298696]]), array([[0.74943463]]), array([[0.75810299]]), array([[0.75343259]]), array([[0.75861808]]), array([[0.76502618]]), array([[0.77870509]]), array([[0.80188172]]), array([[0.80967659]]), array([[0.81165014]]), array([[0.82253635]]), array([[0.83088251]]), array([[0.83384847]]), array([[0.81642432]]), array([[0.80847658]]), array([[0.8130395]]), array([[0.81788703]]), array([[0.82298026]]), array([[0.82139684]]), array([[0.82150529]]), array([[0.82176179]]), array([[0.82154504]]), array([[0.8197732]]), array([[0.81748099]]), array([[0.81982729]]), array([[0.82147118]]), array([[0.82394263]]), array([[0.82893459]]), array([[0.83054029]]), array([[0.81058492]]), array([[0.76598471]]), array([[0.76262308]]), array([[0.76017562]]), array([[0.7451932]]), array([[0.73695065]]), array([[0.74176257]]), array([[0.75235155]]), array([[0.75345813]]), array([[0.75663402]]), array([[0.75493736]]), array([[0.76113748]]), array([[0.75431162]]), array([[0.75052608]]), array([[0.74481635]]), array([[0.74540995]]), array([[0.74729488]]), array([[0.74367768]]), array([[0.73815438]]), array([[0.73922925]]), array([[0.74388556]]), array([[0.74835362]]), array([[0.75241985]]), array([[0.75801992]]), array([[0.76928892]]), array([[0.77909301]]), array([[0.78360706]]), array([[0.79116189]]), array([[0.79727117]]), array([[0.79189633]]), array([[0.79617813]]), array([[0.80533938]]), array([[0.8141386]]), array([[0.80694163]]), array([[0.79725423]]), array([[0.7916393]]), array([[0.78568632]]), array([[0.82059812]]), array([[0.83159041]]), array([[0.83784828]]), array([[0.84577357]]), array([[0.85609271]]), array([[0.86316558]]), array([[0.85598448]])]\n"
          ]
        }
      ],
      "source": [
        "# Define the hyperparameters\n",
        "hidden_layer_size = 64 # set hidden layer size\n",
        "time_steps = 30 # number of time steps\n",
        "input_dimension = 4 # set number od dimension \n",
        "learning_rate = 0.0001 # set learning rate\n",
        "# Define size of training set and size of testing set (80% training, 20% testing)\n",
        "splitlimit = int(len(data_set)*0.8)\n",
        "# initialize weight matrices and biases with random numbers\n",
        "input_hidden = np.random.randn(hidden_layer_size, input_dimension) * 0.01 # input to hidden weight\n",
        "hidden_hidden = np.random.randn(hidden_layer_size, hidden_layer_size) * 0.02 # recurrent weight\n",
        "hidden_output = np.random.randn(1, hidden_layer_size) * 0.05 # hidden to output determine by how much of hidden layer size\n",
        "hidden_bias = np.zeros((hidden_layer_size, 1)) # hidden layer bias\n",
        "output_bias = np.zeros((1, 1)) # output layer bias\n",
        "# defind the forward pass function\n",
        "def forward_pass(X, Y, hidden_state): \n",
        "    # X is an input sequence, \n",
        "    # Y is an output of that input sequence\n",
        "    # hidden_state is a hidden state of weights\n",
        "\n",
        "    # to store the store variables   \n",
        "    store = {}  \n",
        "    # initialize the hidden state and the loss  \n",
        "    # store the hidden state \n",
        "    store['hidden'] = {}\n",
        "    # store the input \n",
        "    store['input'] = {}\n",
        "    # create a temporary hidden state form the preveious hidden state\n",
        "    store['hidden'][-1] = np.copy(hidden_state)\n",
        "    # set the loss to 0\n",
        "    loss = 0\n",
        "    # loop for forward pass\n",
        "    for t in range(len(X)):\n",
        "        # store the input in time step\n",
        "        store['input'][t] = X[t].reshape(-1, 1)\n",
        "        # store the hidden state in time step\n",
        "        store['hidden'][t] = np.tanh(np.dot(input_hidden, store['input'][t]) + np.dot(hidden_hidden, store['hidden'][t-1]) + hidden_bias)\n",
        "        # calculate the predicted ouput\n",
        "        Y_pred = np.dot(hidden_output, store['hidden'][t]) + output_bias\n",
        "        # calculate the update loss\n",
        "        loss += (Y[t] - Y_pred)**2\n",
        "    # this is store the predicted ouput    \n",
        "    store['loss'] = loss    \n",
        "    # this is store the loss  \n",
        "    store['Y_pred'] = Y_pred    \n",
        "    return store\n",
        "# defind the backward pass function\n",
        "def backward_propagation(X, Y, store):\n",
        "    # X is the input sequence\n",
        "    # Y is an output of that input sequence\n",
        "    # initialize the gradients\n",
        "    input_hidden_grad = np.zeros_like(input_hidden) # input to hidden gradient\n",
        "    hidden_hidden_grad = np.zeros_like(hidden_hidden) # hidden to hidden gradient\n",
        "    hidden_output_grad = np.zeros_like(hidden_output) # hidden to output gradient\n",
        "    hidden_bias_grad = np.zeros_like(hidden_bias) # hidden layer bias gradient\n",
        "    output_bias_grad = np.zeros_like(output_bias) # output layer bias gradient\n",
        "    next_hidden_grad = np.zeros_like(store['hidden'][0]) # next hidden state gradient\n",
        "    # loop for backward pass\n",
        "    for t in reversed(range(len(X))):\n",
        "        # calcualte the derivative of the loss\n",
        "        dy = -2 * (Y[t] - store['Y_pred'])\n",
        "        hidden_output_grad += np.dot(dy, store['hidden'][t].T)\n",
        "        output_bias_grad += dy\n",
        "        # calculate the derivative of the hidden state\n",
        "        delta_hidden = np.dot(hidden_output.T, dy) + next_hidden_grad\n",
        "        raw_hidden = (1 - store['hidden'][t]**2) * delta_hidden\n",
        "        # Update the gradients for the hidden layer\n",
        "        hidden_bias_grad += raw_hidden\n",
        "        input_hidden_grad += np.dot(raw_hidden, store['input'][t].T)\n",
        "        hidden_hidden_grad += np.dot(raw_hidden, store['hidden'][t-1].T)\n",
        "        next_hidden_grad = np.dot(hidden_hidden.T, raw_hidden)\n",
        "    # clip the gradients to prevent it from becoming too large during training\n",
        "    for dparam in [input_hidden_grad, hidden_hidden_grad, hidden_output_grad, hidden_bias_grad, output_bias_grad]:\n",
        "        np.clip(dparam, -5, 5, out=dparam)        \n",
        "    return input_hidden_grad, hidden_hidden_grad, hidden_output_grad, hidden_bias_grad, output_bias_grad\n",
        "# set the initial hidden state to None\n",
        "hidden_state = np.zeros((hidden_layer_size, 1))\n",
        "data = data_set\n",
        "data = sc.fit_transform(data)\n",
        "data = pd.DataFrame(data)\n",
        "#split the dataset into testing and training\n",
        "X, X_test = np.array(data.iloc[:, :-1])[:splitlimit], np.array(data.iloc[:, :-1])[splitlimit:]\n",
        "Y, Y_test = np.array(data.iloc[:, -1]).reshape(-1, 1)[:splitlimit], np.array(data.iloc[:, -1]).reshape(-1, 1)[splitlimit:]\n",
        "# create an empty list for loss\n",
        "loss_his = []\n",
        "#training \n",
        "for i in range(100):    \n",
        "    store = forward_pass(X, Y, hidden_state)\n",
        "    input_hidden_grad, hidden_hidden_grad, hidden_output_grad, hidden_bias_grad, output_bias_grad = backward_propagation(X, Y, store)\n",
        "    input_hidden -= learning_rate * input_hidden_grad\n",
        "    hidden_hidden -= learning_rate * hidden_hidden_grad\n",
        "    hidden_output -= learning_rate * hidden_output_grad\n",
        "    hidden_bias -= learning_rate * hidden_bias_grad\n",
        "    output_bias -= learning_rate * output_bias_grad\n",
        "    hidden_state = store['hidden'][len(X) - 1]\n",
        "    # adding the value of the loss\n",
        "    loss_his.append(store['loss'])\n",
        "\n",
        "    if i % 10 == 0:\n",
        "        print('Loss:', store['loss'])\n",
        "        # flatten the loss history array\n",
        "# flatten the loss array\n",
        "losses = np.array(loss_his).flatten()\n",
        " # plot \n",
        "plt.plot(losses)\n",
        "plt.xlabel('Iterations')\n",
        "plt.ylabel('Training Loss')\n",
        "plt.show()     \n",
        "# predict the test set\n",
        "Y_preds = []\n",
        "for t in range(len(X_test)):\n",
        "    store = forward_pass([X_test[t]], [Y_test[t]], hidden_state)\n",
        "    Y_preds.append(store['Y_pred'])\n",
        "    hidden_state = store['hidden'][0]\n",
        "# calculate the MSE\n",
        "MSE = np.mean((Y_test - Y_preds)**2)\n",
        "print('Mean Squared Error:', MSE)\n",
        "print('Predictions:', Y_preds)"
      ]
    }
  ],
  "metadata": {
    "colab": {
      "provenance": []
    },
    "kernelspec": {
      "display_name": "Python 3",
      "name": "python3"
    },
    "language_info": {
      "codemirror_mode": {
        "name": "ipython",
        "version": 3
      },
      "file_extension": ".py",
      "mimetype": "text/x-python",
      "name": "python",
      "nbconvert_exporter": "python",
      "pygments_lexer": "ipython3",
      "version": "3.11.2"
    }
  },
  "nbformat": 4,
  "nbformat_minor": 0
}
