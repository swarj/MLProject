{
  "cells": [
    {
      "cell_type": "code",
      "execution_count": 20,
      "metadata": {
        "id": "ffQV-WGqaAff"
      },
      "outputs": [
        {
          "name": "stdout",
          "output_type": "stream",
          "text": [
            "The autoreload extension is already loaded. To reload it, use:\n",
            "  %reload_ext autoreload\n"
          ]
        }
      ],
      "source": [
        "import numpy as np\n",
        "import pandas as pd\n",
        "from sklearn.model_selection import train_test_split\n",
        "from RNN import RNN\n",
        "%load_ext autoreload\n",
        "%autoreload 2"
      ]
    },
    {
      "cell_type": "code",
      "execution_count": 21,
      "metadata": {
        "colab": {
          "base_uri": "https://localhost:8080/",
          "height": 1000
        },
        "id": "FyJNyGQtlTV5",
        "outputId": "23a02ab9-4a44-4f0e-adbc-b30c7dc45866"
      },
      "outputs": [
        {
          "name": "stdout",
          "output_type": "stream",
          "text": [
            "      Time       Date   High    Low     Volume   Open  Close  TargetNextClose\n",
            "1663     0   3-Jan-11  47.18  46.41  111280407  46.52  47.08            47.33\n",
            "1662     1   4-Jan-11  47.50  46.88   77337001  47.49  47.33            47.71\n",
            "1661     2   5-Jan-11  47.76  47.07   63879193  47.08  47.71            47.68\n",
            "1660     3   6-Jan-11  47.89  47.56   75106626  47.82  47.68            48.02\n",
            "1659     4   7-Jan-11  48.05  47.41   77982212  47.71  48.02            48.92\n",
            "1658     5  10-Jan-11  49.03  48.17  112139482  48.40  48.92            48.81\n",
            "1657     6  11-Jan-11  49.28  48.50  111019993  49.27  48.81            49.20\n",
            "1656     7  12-Jan-11  49.20  48.86   75644310  49.04  49.20            49.38\n",
            "1655     8  13-Jan-11  49.52  49.12   74536182  49.31  49.38            49.78\n",
            "1654     9  14-Jan-11  49.78  49.21   77209748  49.41  49.78            48.66\n",
            "(1663, 8)\n",
            "   index  Time       Date   High    Low     Volume   Open  Close\n",
            "0   1663     0   3-Jan-11  47.18  46.41  111280407  46.52  47.08\n",
            "1   1662     1   4-Jan-11  47.50  46.88   77337001  47.49  47.33\n",
            "2   1661     2   5-Jan-11  47.76  47.07   63879193  47.08  47.71\n",
            "3   1660     3   6-Jan-11  47.89  47.56   75106626  47.82  47.68\n",
            "4   1659     4   7-Jan-11  48.05  47.41   77982212  47.71  48.02\n",
            "5   1658     5  10-Jan-11  49.03  48.17  112139482  48.40  48.92\n",
            "6   1657     6  11-Jan-11  49.28  48.50  111019993  49.27  48.81\n",
            "7   1656     7  12-Jan-11  49.20  48.86   75644310  49.04  49.20\n",
            "8   1655     8  13-Jan-11  49.52  49.12   74536182  49.31  49.38\n",
            "9   1654     9  14-Jan-11  49.78  49.21   77209748  49.41  49.78\n"
          ]
        }
      ],
      "source": [
        "url = \"https://github.com/swarj/MLProject/raw/main/apple_share_price.csv\" #get the dataset\n",
        "raw_df = pd.read_csv(url)\n",
        "raw_df = raw_df.loc[::-1] #reverse order of rows to chronologically make it go from past --> present\n",
        "raw_df = raw_df.assign(Time=range(len(raw_df)))\n",
        "df = raw_df.reindex(['Time','Date', 'High', 'Low', 'Volume', 'Open', 'Close'], axis = 1) #make target variable last column, if we want close instead of open we can switch it\n",
        "#we can try to predict the close value for the following day, need to add target close value  \n",
        "df['TargetNextClose'] = df['Close'].shift(-1)\n",
        "df.drop(df.tail(1).index,inplace=True) # drop last rows\n",
        "df.style\n",
        "print(df.head(10))\n",
        "print(df.shape)\n",
        "df.reset_index(inplace=True)\n",
        "data_set = df.iloc[:, 0:8]\n",
        "pd.set_option('display.max_columns', None)\n",
        "print(data_set.head(10))\n",
        "data_set = data_set.to_numpy()\n",
        "\n"
      ]
    },
    {
      "cell_type": "code",
      "execution_count": 22,
      "metadata": {},
      "outputs": [
        {
          "name": "stdout",
          "output_type": "stream",
          "text": [
            "(1633, 1)\n",
            "[51.41 51.88 51.19 ... 160.08 161.06 155.32]\n"
          ]
        }
      ],
      "source": [
        "X = []\n",
        "backcandles = 30\n",
        "#print(type(data_set))\n",
        "#print(data_set.shape[0])\n",
        "#print(data_set[40-backcandles:40, 5])\n",
        "for j in range(8):\n",
        "    X.append([])\n",
        "    for i in range(backcandles, data_set.shape[0]):\n",
        "        X[j].append(data_set[i-backcandles:i, j])\n",
        "\n",
        "X=np.moveaxis(X, [0], [2])\n",
        "\n",
        "X, yi =np.array(X), np.array(data_set[backcandles:,-1])\n",
        "y=np.reshape(yi,(len(yi),1))\n",
        "print(y.shape)\n",
        "print(yi)\n"
      ]
    },
    {
      "cell_type": "code",
      "execution_count": 23,
      "metadata": {},
      "outputs": [
        {
          "name": "stdout",
          "output_type": "stream",
          "text": [
            "1306\n",
            "<class 'numpy.ndarray'>\n"
          ]
        }
      ],
      "source": [
        "splitlimit = int(len(X)*0.8)\n",
        "print(splitlimit)\n",
        "X_train, X_test = X[:splitlimit], X[splitlimit:]\n",
        "y_train, y_test = y[:splitlimit], y[splitlimit:]\n",
        "print(type(y_train))\n",
        "\n"
      ]
    },
    {
      "cell_type": "code",
      "execution_count": 48,
      "metadata": {},
      "outputs": [
        {
          "name": "stdout",
          "output_type": "stream",
          "text": [
            "1305\n"
          ]
        },
        {
          "ename": "ValueError",
          "evalue": "shapes (8,30) and (1,2) not aligned: 30 (dim 1) != 1 (dim 0)",
          "output_type": "error",
          "traceback": [
            "\u001b[1;31m---------------------------------------------------------------------------\u001b[0m",
            "\u001b[1;31mValueError\u001b[0m                                Traceback (most recent call last)",
            "\u001b[1;32mc:\\Users\\Daniel\\Documents\\proj\\MLProject\\ML_Project.ipynb Cell 5\u001b[0m in \u001b[0;36m<cell line: 2>\u001b[1;34m()\u001b[0m\n\u001b[0;32m      <a href='vscode-notebook-cell:/c%3A/Users/Daniel/Documents/proj/MLProject/ML_Project.ipynb#W2sZmlsZQ%3D%3D?line=0'>1</a>\u001b[0m rnn \u001b[39m=\u001b[39m RNN(\u001b[39m8\u001b[39m,\u001b[39m1\u001b[39m,\u001b[39m2\u001b[39m)\n\u001b[1;32m----> <a href='vscode-notebook-cell:/c%3A/Users/Daniel/Documents/proj/MLProject/ML_Project.ipynb#W2sZmlsZQ%3D%3D?line=1'>2</a>\u001b[0m rnn\u001b[39m.\u001b[39;49mtrain(X_train, y_train)\n",
            "File \u001b[1;32mc:\\Users\\Daniel\\Documents\\proj\\MLProject\\RNN.py:59\u001b[0m, in \u001b[0;36mRNN.train\u001b[1;34m(self, x, yi, epochs, learning_rate)\u001b[0m\n\u001b[0;32m     57\u001b[0m loss \u001b[39m=\u001b[39m \u001b[39m0\u001b[39m\n\u001b[0;32m     58\u001b[0m \u001b[39m#loss = np.sum((y - y_pred)**2)\u001b[39;00m\n\u001b[1;32m---> 59\u001b[0m \u001b[39mself\u001b[39;49m\u001b[39m.\u001b[39;49mbackward(x, y_pred, yi, learning_rate)\n\u001b[0;32m     60\u001b[0m \u001b[39mif\u001b[39;00m epoch \u001b[39m%\u001b[39m \u001b[39m10\u001b[39m \u001b[39m==\u001b[39m \u001b[39m0\u001b[39m:\n\u001b[0;32m     61\u001b[0m     \u001b[39mprint\u001b[39m(\u001b[39mf\u001b[39m\u001b[39m\"\u001b[39m\u001b[39mEpoch \u001b[39m\u001b[39m{\u001b[39;00mepoch\u001b[39m}\u001b[39;00m\u001b[39m, loss: \u001b[39m\u001b[39m{\u001b[39;00mloss\u001b[39m}\u001b[39;00m\u001b[39m\"\u001b[39m)\n",
            "File \u001b[1;32mc:\\Users\\Daniel\\Documents\\proj\\MLProject\\RNN.py:51\u001b[0m, in \u001b[0;36mRNN.backward\u001b[1;34m(self, inputs, outputs, targets, learning_rate)\u001b[0m\n\u001b[0;32m     49\u001b[0m \u001b[39m# Add the hidden gradient to the total hidden gradient\u001b[39;00m\n\u001b[0;32m     50\u001b[0m \u001b[39mself\u001b[39m\u001b[39m.\u001b[39mweights_hidden \u001b[39m=\u001b[39m \u001b[39mself\u001b[39m\u001b[39m.\u001b[39mweights_hidden \u001b[39m+\u001b[39m learning_rate \u001b[39m*\u001b[39m np\u001b[39m.\u001b[39mdot(np\u001b[39m.\u001b[39matleast_2d(\u001b[39mself\u001b[39m\u001b[39m.\u001b[39mhidden_state[\u001b[39m0\u001b[39m])\u001b[39m.\u001b[39mT, np\u001b[39m.\u001b[39matleast_2d(hidden_gradient))\n\u001b[1;32m---> 51\u001b[0m \u001b[39mself\u001b[39m\u001b[39m.\u001b[39mweights_input \u001b[39m=\u001b[39m \u001b[39mself\u001b[39m\u001b[39m.\u001b[39mweights_input \u001b[39m+\u001b[39m learning_rate \u001b[39m*\u001b[39m np\u001b[39m.\u001b[39;49mdot(np\u001b[39m.\u001b[39;49matleast_2d(inputs[i])\u001b[39m.\u001b[39;49mT, np\u001b[39m.\u001b[39;49matleast_2d(hidden_gradient))\n",
            "File \u001b[1;32m<__array_function__ internals>:200\u001b[0m, in \u001b[0;36mdot\u001b[1;34m(*args, **kwargs)\u001b[0m\n",
            "\u001b[1;31mValueError\u001b[0m: shapes (8,30) and (1,2) not aligned: 30 (dim 1) != 1 (dim 0)"
          ]
        }
      ],
      "source": [
        "rnn = RNN(8,1,2)\n",
        "rnn.train(X_train, y_train)"
      ]
    }
  ],
  "metadata": {
    "colab": {
      "provenance": []
    },
    "kernelspec": {
      "display_name": "Python 3",
      "name": "python3"
    },
    "language_info": {
      "codemirror_mode": {
        "name": "ipython",
        "version": 3
      },
      "file_extension": ".py",
      "mimetype": "text/x-python",
      "name": "python",
      "nbconvert_exporter": "python",
      "pygments_lexer": "ipython3",
      "version": "3.10.11"
    }
  },
  "nbformat": 4,
  "nbformat_minor": 0
}
