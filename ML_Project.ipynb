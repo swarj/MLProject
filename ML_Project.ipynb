{
  "cells": [
    {
      "cell_type": "code",
      "execution_count": 57,
      "metadata": {
        "id": "ffQV-WGqaAff"
      },
      "outputs": [
        {
          "name": "stdout",
          "output_type": "stream",
          "text": [
            "The autoreload extension is already loaded. To reload it, use:\n",
            "  %reload_ext autoreload\n"
          ]
        }
      ],
      "source": [
        "import numpy as np\n",
        "import pandas as pd\n",
        "from sklearn.model_selection import train_test_split\n",
        "from RNN import RNN\n",
        "%load_ext autoreload\n",
        "%autoreload 2"
      ]
    },
    {
      "cell_type": "code",
      "execution_count": 58,
      "metadata": {
        "colab": {
          "base_uri": "https://localhost:8080/",
          "height": 1000
        },
        "id": "FyJNyGQtlTV5",
        "outputId": "23a02ab9-4a44-4f0e-adbc-b30c7dc45866"
      },
      "outputs": [
        {
          "name": "stdout",
          "output_type": "stream",
          "text": [
            "      Time       Date   High    Low     Volume   Open  Close  TargetNextClose\n",
            "1663     0   3-Jan-11  47.18  46.41  111280407  46.52  47.08            47.33\n",
            "1662     1   4-Jan-11  47.50  46.88   77337001  47.49  47.33            47.71\n",
            "1661     2   5-Jan-11  47.76  47.07   63879193  47.08  47.71            47.68\n",
            "1660     3   6-Jan-11  47.89  47.56   75106626  47.82  47.68            48.02\n",
            "1659     4   7-Jan-11  48.05  47.41   77982212  47.71  48.02            48.92\n",
            "1658     5  10-Jan-11  49.03  48.17  112139482  48.40  48.92            48.81\n",
            "1657     6  11-Jan-11  49.28  48.50  111019993  49.27  48.81            49.20\n",
            "1656     7  12-Jan-11  49.20  48.86   75644310  49.04  49.20            49.38\n",
            "1655     8  13-Jan-11  49.52  49.12   74536182  49.31  49.38            49.78\n",
            "1654     9  14-Jan-11  49.78  49.21   77209748  49.41  49.78            48.66\n",
            "(1663, 8)\n",
            "   index  Time       Date   High    Low     Volume   Open  Close\n",
            "0   1663     0   3-Jan-11  47.18  46.41  111280407  46.52  47.08\n",
            "1   1662     1   4-Jan-11  47.50  46.88   77337001  47.49  47.33\n",
            "2   1661     2   5-Jan-11  47.76  47.07   63879193  47.08  47.71\n",
            "3   1660     3   6-Jan-11  47.89  47.56   75106626  47.82  47.68\n",
            "4   1659     4   7-Jan-11  48.05  47.41   77982212  47.71  48.02\n",
            "5   1658     5  10-Jan-11  49.03  48.17  112139482  48.40  48.92\n",
            "6   1657     6  11-Jan-11  49.28  48.50  111019993  49.27  48.81\n",
            "7   1656     7  12-Jan-11  49.20  48.86   75644310  49.04  49.20\n",
            "8   1655     8  13-Jan-11  49.52  49.12   74536182  49.31  49.38\n",
            "9   1654     9  14-Jan-11  49.78  49.21   77209748  49.41  49.78\n",
            "   level_0  index  Time          Date   High    Low     Volume   Open  Close  \\\n",
            "0        0   1663     0  1.294013e+09  47.18  46.41  111280407  46.52  47.08   \n",
            "1        1   1662     1  1.294099e+09  47.50  46.88   77337001  47.49  47.33   \n",
            "2        2   1661     2  1.294186e+09  47.76  47.07   63879193  47.08  47.71   \n",
            "3        3   1660     3  1.294272e+09  47.89  47.56   75106626  47.82  47.68   \n",
            "4        4   1659     4  1.294358e+09  48.05  47.41   77982212  47.71  48.02   \n",
            "5        5   1658     5  1.294618e+09  49.03  48.17  112139482  48.40  48.92   \n",
            "6        6   1657     6  1.294704e+09  49.28  48.50  111019993  49.27  48.81   \n",
            "7        7   1656     7  1.294790e+09  49.20  48.86   75644310  49.04  49.20   \n",
            "8        8   1655     8  1.294877e+09  49.52  49.12   74536182  49.31  49.38   \n",
            "9        9   1654     9  1.294963e+09  49.78  49.21   77209748  49.41  49.78   \n",
            "\n",
            "   TargetNextClose  \n",
            "0            47.33  \n",
            "1            47.71  \n",
            "2            47.68  \n",
            "3            48.02  \n",
            "4            48.92  \n",
            "5            48.81  \n",
            "6            49.20  \n",
            "7            49.38  \n",
            "8            49.78  \n",
            "9            48.66  \n"
          ]
        }
      ],
      "source": [
        "url = \"https://github.com/swarj/MLProject/raw/main/apple_share_price.csv\" #get the dataset\n",
        "raw_df = pd.read_csv(url)\n",
        "raw_df = raw_df.loc[::-1] #reverse order of rows to chronologically make it go from past --> present\n",
        "raw_df = raw_df.assign(Time=range(len(raw_df)))\n",
        "df = raw_df.reindex(['Time','Date', 'High', 'Low', 'Volume', 'Open', 'Close'], axis = 1) #make target variable last column, if we want close instead of open we can switch it\n",
        "#we can try to predict the close value for the following day, need to add target close value  \n",
        "df['TargetNextClose'] = df['Close'].shift(-1)\n",
        "df.drop(df.tail(1).index,inplace=True) # drop last rows\n",
        "df.style\n",
        "print(df.head(10))\n",
        "print(df.shape)\n",
        "df.reset_index(inplace=True)\n",
        "data_set = df.iloc[:, 0:8]\n",
        "pd.set_option('display.max_columns', None)\n",
        "print(data_set.head(10))\n",
        "data_set = data_set.to_numpy()\n",
        "\n",
        "#(Jason) i added this for my forward method\n",
        "# Parse the date column as a datetime object\n",
        "df['Date'] = pd.to_datetime(df['Date'])\n",
        "# Convert the date column to a float timestamp\n",
        "df['Date'] = df['Date'].apply(lambda x: x.timestamp())\n",
        "# Reset the index\n",
        "df.reset_index(inplace=True)\n",
        "# Select the first 8 columns as the dataset\n",
        "data_set = df.iloc[:, 0:8].to_numpy()\n",
        "# Print the first 10 rows of the updated dataframe\n",
        "print(df.head(10))"
      ]
    },
    {
      "cell_type": "code",
      "execution_count": 59,
      "metadata": {},
      "outputs": [
        {
          "name": "stdout",
          "output_type": "stream",
          "text": [
            "(1633, 1)\n",
            "[ 51.31  51.54  51.04 ... 158.6  159.26 159.9 ]\n"
          ]
        }
      ],
      "source": [
        "X = []\n",
        "backcandles = 30\n",
        "#print(type(data_set))\n",
        "#print(data_set.shape[0])\n",
        "#print(data_set[40-backcandles:40, 5])\n",
        "for j in range(8):\n",
        "    X.append([])\n",
        "    for i in range(backcandles, data_set.shape[0]):\n",
        "        X[j].append(data_set[i-backcandles:i, j])\n",
        "\n",
        "X=np.moveaxis(X, [0], [2])\n",
        "\n",
        "X, yi =np.array(X), np.array(data_set[backcandles:,-1])\n",
        "y=np.reshape(yi,(len(yi),1))\n",
        "print(y.shape)\n",
        "print(yi)\n"
      ]
    },
    {
      "cell_type": "code",
      "execution_count": 60,
      "metadata": {},
      "outputs": [
        {
          "name": "stdout",
          "output_type": "stream",
          "text": [
            "1306\n",
            "<class 'numpy.ndarray'>\n"
          ]
        }
      ],
      "source": [
        "splitlimit = int(len(X)*0.8)\n",
        "print(splitlimit)\n",
        "X_train, X_test = X[:splitlimit], X[splitlimit:]\n",
        "y_train, y_test = y[:splitlimit], y[splitlimit:]\n",
        "print(type(y_train))\n",
        "\n"
      ]
    },
    {
      "cell_type": "code",
      "execution_count": 61,
      "metadata": {},
      "outputs": [
        {
          "name": "stdout",
          "output_type": "stream",
          "text": [
            "[array([[0.5903899]]), array([[1.04915395]]), array([[1.17997152]]), array([[1.20980181]])]\n"
          ]
        }
      ],
      "source": [
        "# Create an instance \n",
        "rnn = RNN(input_size=2, output_size=1, hidden_size=3)\n",
        "# Define some inputs\n",
        "input_data = [[1, 0], [0, 1], [0.2550690257394217, 0.49543508709194095], [0, 0]]\n",
        "# Call the forward method and print the outputs\n",
        "outputs = rnn.forward_pass(input_data)\n",
        "print(outputs)"
      ]
    },
    {
      "cell_type": "code",
      "execution_count": 62,
      "metadata": {},
      "outputs": [
        {
          "name": "stderr",
          "output_type": "stream",
          "text": [
            "c:\\Users\\namho\\Downloads\\ML_proj\\MLProject\\RNN.py:4: RuntimeWarning: overflow encountered in exp\n",
            "  return 1 / (1 + np.exp(-x))\n"
          ]
        },
        {
          "ename": "AttributeError",
          "evalue": "'list' object has no attribute 'shape'",
          "output_type": "error",
          "traceback": [
            "\u001b[1;31m---------------------------------------------------------------------------\u001b[0m",
            "\u001b[1;31mAttributeError\u001b[0m                            Traceback (most recent call last)",
            "Cell \u001b[1;32mIn[62], line 2\u001b[0m\n\u001b[0;32m      1\u001b[0m rnn \u001b[39m=\u001b[39m RNN(\u001b[39m8\u001b[39m,\u001b[39m1\u001b[39m,\u001b[39m2\u001b[39m)\n\u001b[1;32m----> 2\u001b[0m rnn\u001b[39m.\u001b[39;49mtrain(X_train, y_train)\n",
            "File \u001b[1;32mc:\\Users\\namho\\Downloads\\ML_proj\\MLProject\\RNN.py:76\u001b[0m, in \u001b[0;36mRNN.train\u001b[1;34m(self, x, yi, epochs, learning_rate)\u001b[0m\n\u001b[0;32m     74\u001b[0m loss \u001b[39m=\u001b[39m \u001b[39m0\u001b[39m\n\u001b[0;32m     75\u001b[0m \u001b[39m#loss = np.sum((y - y_pred)**2)\u001b[39;00m\n\u001b[1;32m---> 76\u001b[0m \u001b[39mself\u001b[39;49m\u001b[39m.\u001b[39;49mbackward(x, y_pred, yi, learning_rate)\n\u001b[0;32m     77\u001b[0m \u001b[39mif\u001b[39;00m epoch \u001b[39m%\u001b[39m \u001b[39m10\u001b[39m \u001b[39m==\u001b[39m \u001b[39m0\u001b[39m:\n\u001b[0;32m     78\u001b[0m     \u001b[39mprint\u001b[39m(\u001b[39mf\u001b[39m\u001b[39m\"\u001b[39m\u001b[39mEpoch \u001b[39m\u001b[39m{\u001b[39;00mepoch\u001b[39m}\u001b[39;00m\u001b[39m, loss: \u001b[39m\u001b[39m{\u001b[39;00mloss\u001b[39m}\u001b[39;00m\u001b[39m\"\u001b[39m)\n",
            "File \u001b[1;32mc:\\Users\\namho\\Downloads\\ML_proj\\MLProject\\RNN.py:52\u001b[0m, in \u001b[0;36mRNN.backward\u001b[1;34m(self, inputs, outputs, targets, learning_rate)\u001b[0m\n\u001b[0;32m     49\u001b[0m output_gradient \u001b[39m=\u001b[39m np\u001b[39m.\u001b[39mzeros((\u001b[39mself\u001b[39m\u001b[39m.\u001b[39mhidden_size, \u001b[39mself\u001b[39m\u001b[39m.\u001b[39moutput_size))\n\u001b[0;32m     51\u001b[0m \u001b[39m# Loop through each output in the sequence in reverse order\u001b[39;00m\n\u001b[1;32m---> 52\u001b[0m \u001b[39mfor\u001b[39;00m i \u001b[39min\u001b[39;00m \u001b[39mreversed\u001b[39m(\u001b[39mrange\u001b[39m(outputs\u001b[39m.\u001b[39;49mshape[\u001b[39m0\u001b[39m])):\n\u001b[0;32m     53\u001b[0m     \u001b[39m# Compute the error for this output\u001b[39;00m\n\u001b[0;32m     54\u001b[0m     error \u001b[39m=\u001b[39m targets[i] \u001b[39m-\u001b[39m outputs[i]\n\u001b[0;32m     56\u001b[0m     \u001b[39m# Compute the output gradient for this output\u001b[39;00m\n",
            "\u001b[1;31mAttributeError\u001b[0m: 'list' object has no attribute 'shape'"
          ]
        }
      ],
      "source": [
        "rnn = RNN(8,1,2)\n",
        "rnn.train(X_train, y_train)"
      ]
    }
  ],
  "metadata": {
    "colab": {
      "provenance": []
    },
    "kernelspec": {
      "display_name": "Python 3",
      "name": "python3"
    },
    "language_info": {
      "codemirror_mode": {
        "name": "ipython",
        "version": 3
      },
      "file_extension": ".py",
      "mimetype": "text/x-python",
      "name": "python",
      "nbconvert_exporter": "python",
      "pygments_lexer": "ipython3",
      "version": "3.11.2"
    }
  },
  "nbformat": 4,
  "nbformat_minor": 0
}
