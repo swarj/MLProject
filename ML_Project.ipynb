{
  "cells": [
    {
      "cell_type": "code",
      "execution_count": 13,
      "metadata": {
        "id": "ffQV-WGqaAff"
      },
      "outputs": [
        {
          "name": "stdout",
          "output_type": "stream",
          "text": [
            "The autoreload extension is already loaded. To reload it, use:\n",
            "  %reload_ext autoreload\n"
          ]
        }
      ],
      "source": [
        "import numpy as np\n",
        "import pandas as pd\n",
        "from sklearn.model_selection import train_test_split\n",
        "import matplotlib.pyplot as plt\n",
        "%load_ext autoreload\n",
        "%autoreload 2"
      ]
    },
    {
      "cell_type": "code",
      "execution_count": 14,
      "metadata": {
        "colab": {
          "base_uri": "https://localhost:8080/",
          "height": 1000
        },
        "id": "FyJNyGQtlTV5",
        "outputId": "23a02ab9-4a44-4f0e-adbc-b30c7dc45866"
      },
      "outputs": [
        {
          "name": "stdout",
          "output_type": "stream",
          "text": [
            "      Time       Date   High    Low     Volume   Open  Close  TargetNextClose\n",
            "1663     0   3-Jan-11  47.18  46.41  111280407  46.52  47.08            47.33\n",
            "1662     1   4-Jan-11  47.50  46.88   77337001  47.49  47.33            47.71\n",
            "1661     2   5-Jan-11  47.76  47.07   63879193  47.08  47.71            47.68\n",
            "1660     3   6-Jan-11  47.89  47.56   75106626  47.82  47.68            48.02\n",
            "1659     4   7-Jan-11  48.05  47.41   77982212  47.71  48.02            48.92\n",
            "1658     5  10-Jan-11  49.03  48.17  112139482  48.40  48.92            48.81\n",
            "1657     6  11-Jan-11  49.28  48.50  111019993  49.27  48.81            49.20\n",
            "1656     7  12-Jan-11  49.20  48.86   75644310  49.04  49.20            49.38\n",
            "1655     8  13-Jan-11  49.52  49.12   74536182  49.31  49.38            49.78\n",
            "1654     9  14-Jan-11  49.78  49.21   77209748  49.41  49.78            48.66\n",
            "(1663, 8)\n",
            "    High    Low     Volume   Open  Close\n",
            "0  47.18  46.41  111280407  46.52  47.08\n",
            "1  47.50  46.88   77337001  47.49  47.33\n",
            "2  47.76  47.07   63879193  47.08  47.71\n",
            "3  47.89  47.56   75106626  47.82  47.68\n",
            "4  48.05  47.41   77982212  47.71  48.02\n",
            "5  49.03  48.17  112139482  48.40  48.92\n",
            "6  49.28  48.50  111019993  49.27  48.81\n",
            "7  49.20  48.86   75644310  49.04  49.20\n",
            "8  49.52  49.12   74536182  49.31  49.38\n",
            "9  49.78  49.21   77209748  49.41  49.78\n"
          ]
        }
      ],
      "source": [
        "url = \"https://github.com/swarj/MLProject/raw/main/apple_share_price.csv\" #get the dataset\n",
        "raw_df = pd.read_csv(url)\n",
        "raw_df = raw_df.loc[::-1] #reverse order of rows to chronologically make it go from past --> present\n",
        "raw_df = raw_df.assign(Time=range(len(raw_df)))\n",
        "df = raw_df.reindex(['Time','Date', 'High', 'Low', 'Volume', 'Open', 'Close'], axis = 1) #make target variable last column, if we want close instead of open we can switch it\n",
        "#we can try to predict the close value for the following day, need to add target close value  \n",
        "df['TargetNextClose'] = df['Close'].shift(-1)\n",
        "df.drop(df.tail(1).index,inplace=True) # drop last rows\n",
        "df.style\n",
        "print(df.head(10))\n",
        "print(df.shape)\n",
        "df.reset_index(inplace=True)\n",
        "data_set = df.iloc[:, 0:8]\n",
        "pd.set_option('display.max_columns', None)\n",
        "data_set = data_set.drop(columns=[\"Date\", \"Time\", \"index\"], axis=1)\n",
        "print(data_set.head(10))"
      ]
    },
    {
      "cell_type": "code",
      "execution_count": 15,
      "metadata": {},
      "outputs": [],
      "source": [
        "from sklearn.preprocessing import MinMaxScaler\n",
        "sc = MinMaxScaler(feature_range=(0,1))"
      ]
    },
    {
      "cell_type": "code",
      "execution_count": 16,
      "metadata": {},
      "outputs": [
        {
          "name": "stdout",
          "output_type": "stream",
          "text": [
            "Training Loss: [[204.71994894]]\n",
            "Test Loss: 0.4619578455527763\n",
            "Training Loss: [[168.93424555]]\n",
            "Test Loss: 0.39391586195039496\n",
            "Training Loss: [[129.42964177]]\n",
            "Test Loss: 0.31500250285485365\n",
            "Training Loss: [[84.96049456]]\n",
            "Test Loss: 0.22010112382167002\n",
            "Training Loss: [[42.4843331]]\n",
            "Test Loss: 0.11861360869207835\n",
            "Training Loss: [[22.88684184]]\n",
            "Test Loss: 0.06668455480136323\n",
            "Training Loss: [[15.05168115]]\n",
            "Test Loss: 0.044921187086216445\n",
            "Training Loss: [[11.70275563]]\n",
            "Test Loss: 0.03395405607835018\n",
            "Training Loss: [[10.4662322]]\n",
            "Test Loss: 0.025828642765082607\n",
            "Training Loss: [[11.03802385]]\n",
            "Test Loss: 0.018622313485977128\n"
          ]
        },
        {
          "data": {
            "image/png": "[encoded data removed]",
            "text/plain": [
              "<Figure size 640x480 with 1 Axes>"
            ]
          },
          "metadata": {},
          "output_type": "display_data"
        },
        {
          "name": "stdout",
          "output_type": "stream",
          "text": [
            "Mean Squared Error: 0.06856804786544937\n"
          ]
        }
      ],
      "source": [
        "# Define the hyperparameters\n",
        "hidden_layer_size = 64 # set hidden layer size\n",
        "\n",
        "input_dimension = 4 # set number od dimension \n",
        "learning_rate = 0.0001 # set learning rate\n",
        "# Define size of training set and size of testing set (80% training, 20% testing)\n",
        "splitlimit = int(len(data_set)*0.8)\n",
        "# initialize weight matrices and biases with random numbers\n",
        "input_hidden = np.random.randn(hidden_layer_size, input_dimension) * 0.01 # input to hidden weight\n",
        "hidden_hidden = np.random.randn(hidden_layer_size, hidden_layer_size) * 0.02 # recurrent weight\n",
        "hidden_output = np.random.randn(1, hidden_layer_size) * 0.05 # hidden to output determine by how much of hidden layer size\n",
        "hidden_bias = np.zeros((hidden_layer_size, 1)) # hidden layer bias\n",
        "output_bias = np.zeros((1, 1)) # output layer bias\n",
        "# defind the forward pass function\n",
        "def forward_pass(X, Y, hidden_state): \n",
        "    # X is an input sequence, \n",
        "    # Y is an output of that input sequence\n",
        "    # hidden_state is a hidden state of weights\n",
        "\n",
        "    # to store the store variables   \n",
        "    store = {}  \n",
        "    # initialize the hidden state and the loss  \n",
        "    # store the hidden state \n",
        "    store['hidden'] = {}\n",
        "    # store the input \n",
        "    store['input'] = {}\n",
        "    # create a temporary hidden state form the preveious hidden state\n",
        "    store['hidden'][-1] = np.copy(hidden_state)\n",
        "    # set the loss to 0\n",
        "    loss = 0\n",
        "    # loop for forward pass\n",
        "    for t in range(len(X)):\n",
        "        # store the input in time step\n",
        "        store['input'][t] = X[t].reshape(-1, 1)\n",
        "        # store the hidden state in time step\n",
        "        store['hidden'][t] = np.tanh(np.dot(input_hidden, store['input'][t]) + np.dot(hidden_hidden, store['hidden'][t-1]) + hidden_bias)\n",
        "        # calculate the predicted ouput\n",
        "        Y_pred = np.dot(hidden_output, store['hidden'][t]) + output_bias\n",
        "        # calculate the update loss\n",
        "        loss += (Y[t] - Y_pred)**2\n",
        "    # this is store the predicted ouput    \n",
        "    store['loss'] = loss    \n",
        "    # this is store the loss  \n",
        "    store['Y_pred'] = Y_pred  \n",
        "    return store\n",
        "# defind the backward pass function\n",
        "def backward_propagation(X, Y, store):\n",
        "    # X is the input sequence\n",
        "    # Y is an output of that input sequence\n",
        "    # initialize the gradients\n",
        "    input_hidden_grad = np.zeros_like(input_hidden) # input to hidden gradient\n",
        "    hidden_hidden_grad = np.zeros_like(hidden_hidden) # hidden to hidden gradient\n",
        "    hidden_output_grad = np.zeros_like(hidden_output) # hidden to output gradient\n",
        "    hidden_bias_grad = np.zeros_like(hidden_bias) # hidden layer bias gradient\n",
        "    output_bias_grad = np.zeros_like(output_bias) # output layer bias gradient\n",
        "    next_hidden_grad = np.zeros_like(store['hidden'][0]) # next hidden state gradient\n",
        "    # loop for backward pass\n",
        "    for t in reversed(range(len(X))):\n",
        "        # calcualte the derivative of the loss\n",
        "        dy = -2 * (Y[t] - store['Y_pred'])\n",
        "        hidden_output_grad += np.dot(dy, store['hidden'][t].T)\n",
        "        output_bias_grad += dy\n",
        "        # calculate the derivative of the hidden state\n",
        "        delta_hidden = np.dot(hidden_output.T, dy) + next_hidden_grad\n",
        "        raw_hidden = (1 - store['hidden'][t]**2) * delta_hidden\n",
        "        # Update the gradients for the hidden layer\n",
        "        hidden_bias_grad += raw_hidden\n",
        "        input_hidden_grad += np.dot(raw_hidden, store['input'][t].T)\n",
        "        hidden_hidden_grad += np.dot(raw_hidden, store['hidden'][t-1].T)\n",
        "        next_hidden_grad = np.dot(hidden_hidden.T, raw_hidden)\n",
        "    # clip the gradients to prevent it from becoming too large during training\n",
        "    for dparam in [input_hidden_grad, hidden_hidden_grad, hidden_output_grad, hidden_bias_grad, output_bias_grad]:\n",
        "        np.clip(dparam, -5, 5, out=dparam)        \n",
        "    return input_hidden_grad, hidden_hidden_grad, hidden_output_grad, hidden_bias_grad, output_bias_grad\n",
        "# set the initial hidden state to None\n",
        "hidden_state = np.zeros((hidden_layer_size, 1))\n",
        "data = data_set\n",
        "data = sc.fit_transform(data)\n",
        "data = pd.DataFrame(data)\n",
        "#split the dataset into testing and training\n",
        "X, X_test = np.array(data.iloc[:, :-1])[:splitlimit], np.array(data.iloc[:, :-1])[splitlimit:]\n",
        "Y, Y_test = np.array(data.iloc[:, -1]).reshape(-1, 1)[:splitlimit], np.array(data.iloc[:, -1]).reshape(-1, 1)[splitlimit:]\n",
        "# create an empty list for loss\n",
        "loss_his = []\n",
        "test_loss_his = []\n",
        "#training \n",
        "for i in range(100):    \n",
        "    store = forward_pass(X, Y, hidden_state)\n",
        "    input_hidden_grad, hidden_hidden_grad, hidden_output_grad, hidden_bias_grad, output_bias_grad = backward_propagation(X, Y, store)\n",
        "    input_hidden -= learning_rate * input_hidden_grad\n",
        "    hidden_hidden -= learning_rate * hidden_hidden_grad\n",
        "    hidden_output -= learning_rate * hidden_output_grad\n",
        "    hidden_bias -= learning_rate * hidden_bias_grad\n",
        "    output_bias -= learning_rate * output_bias_grad\n",
        "    hidden_state = store['hidden'][len(X) - 1]\n",
        "    # adding the value of the loss\n",
        "    loss_his.append(store['loss'])\n",
        "    \n",
        "   \n",
        "      # compute loss on testing set \n",
        "    test_store = forward_pass(X_test, Y_test, hidden_state)\n",
        "    test_loss = test_store['loss'][0][0] / len(X_test)\n",
        "    test_loss_his.append(test_loss)\n",
        "    \n",
        "\n",
        "    if i % 10 == 0:\n",
        "        print('Training Loss:', store['loss'])\n",
        "        print('Test Loss:', test_loss)\n",
        "       # flatten the loss history arrays\n",
        "train_losses = np.array(loss_his).flatten()\n",
        "test_losses = np.array(test_loss_his).flatten()\n",
        "# plot\n",
        "plt.plot(train_losses, label='Training Loss')\n",
        "plt.plot(test_losses, label='Testing Loss')\n",
        "plt.xlabel('Iterations')\n",
        "plt.ylabel('Loss')\n",
        "plt.legend()\n",
        "plt.show()    \n",
        "# predict the test set\n",
        "Y_preds = []\n",
        "for t in range(len(X_test)):\n",
        "    store = forward_pass([X_test[t]], [Y_test[t]], hidden_state)\n",
        "    Y_preds.append(store['Y_pred'])\n",
        "    hidden_state = store['hidden'][0]\n",
        "# calculate the MSE\n",
        "MSE = np.mean((Y_test - Y_preds)**2)\n",
        "print('Mean Squared Error:', MSE)\n",
        "\n"
      ]
    }
  ],
  "metadata": {
    "colab": {
      "provenance": []
    },
    "kernelspec": {
      "display_name": "Python 3",
      "name": "python3"
    },
    "language_info": {
      "codemirror_mode": {
        "name": "ipython",
        "version": 3
      },
      "file_extension": ".py",
      "mimetype": "text/x-python",
      "name": "python",
      "nbconvert_exporter": "python",
      "pygments_lexer": "ipython3",
      "version": "3.11.2"
    }
  },
  "nbformat": 4,
  "nbformat_minor": 0
}
