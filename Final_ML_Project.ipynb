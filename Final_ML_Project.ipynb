{
  "nbformat": 4,
  "nbformat_minor": 0,
  "metadata": {
    "colab": {
      "provenance": [],
      "toc_visible": true
    },
    "kernelspec": {
      "name": "python3",
      "display_name": "Python 3"
    },
    "language_info": {
      "name": "python"
    }
  },
  "cells": [
    {
      "cell_type": "code",
      "source": [
        "import numpy as np\n",
        "import pandas as pd\n",
        "from sklearn.model_selection import train_test_split\n",
        "import matplotlib.pyplot as plt"
      ],
      "metadata": {
        "id": "hOAbE1X4EO_Y"
      },
      "execution_count": 137,
      "outputs": []
    },
    {
      "cell_type": "code",
      "source": [
        "url = \"https://github.com/swarj/MLProject/raw/main/apple_share_price.csv\" #get the dataset\n",
        "raw_df = pd.read_csv(url)\n",
        "raw_df = raw_df.loc[::-1] #reverse order of rows to chronologically make it go from past --> present\n",
        "raw_df = raw_df.assign(Time=range(len(raw_df)))\n",
        "df = raw_df.reindex(['Time','Date', 'High', 'Low', 'Volume', 'Open', 'Close'], axis = 1) #make target variable last column, if we want close instead of open we can switch it\n",
        "#we can try to predict the close value for the following day, need to add target close value  \n",
        "df['TargetNextClose'] = df['Close'].shift(-1)\n",
        "df.drop(df.tail(1).index,inplace=True) # drop last rows\n",
        "df.style\n",
        "print(df.head(10))\n",
        "print(df.shape)\n",
        "df.reset_index(inplace=True)\n",
        "data_set = df.iloc[:, 0:8]\n",
        "pd.set_option('display.max_columns', None)\n",
        "data_set = data_set.drop(columns=[\"Date\", \"Time\", \"index\"], axis=1)\n",
        "print(data_set.head(10))"
      ],
      "metadata": {
        "colab": {
          "base_uri": "https://localhost:8080/"
        },
        "id": "ju9d2WToESJz",
        "outputId": "73d82a26-58a3-4e98-8718-749aecf575e0"
      },
      "execution_count": 138,
      "outputs": [
        {
          "output_type": "stream",
          "name": "stdout",
          "text": [
            "      Time       Date   High    Low     Volume   Open  Close  TargetNextClose\n",
            "1663     0   3-Jan-11  47.18  46.41  111280407  46.52  47.08            47.33\n",
            "1662     1   4-Jan-11  47.50  46.88   77337001  47.49  47.33            47.71\n",
            "1661     2   5-Jan-11  47.76  47.07   63879193  47.08  47.71            47.68\n",
            "1660     3   6-Jan-11  47.89  47.56   75106626  47.82  47.68            48.02\n",
            "1659     4   7-Jan-11  48.05  47.41   77982212  47.71  48.02            48.92\n",
            "1658     5  10-Jan-11  49.03  48.17  112139482  48.40  48.92            48.81\n",
            "1657     6  11-Jan-11  49.28  48.50  111019993  49.27  48.81            49.20\n",
            "1656     7  12-Jan-11  49.20  48.86   75644310  49.04  49.20            49.38\n",
            "1655     8  13-Jan-11  49.52  49.12   74536182  49.31  49.38            49.78\n",
            "1654     9  14-Jan-11  49.78  49.21   77209748  49.41  49.78            48.66\n",
            "(1663, 8)\n",
            "    High    Low     Volume   Open  Close\n",
            "0  47.18  46.41  111280407  46.52  47.08\n",
            "1  47.50  46.88   77337001  47.49  47.33\n",
            "2  47.76  47.07   63879193  47.08  47.71\n",
            "3  47.89  47.56   75106626  47.82  47.68\n",
            "4  48.05  47.41   77982212  47.71  48.02\n",
            "5  49.03  48.17  112139482  48.40  48.92\n",
            "6  49.28  48.50  111019993  49.27  48.81\n",
            "7  49.20  48.86   75644310  49.04  49.20\n",
            "8  49.52  49.12   74536182  49.31  49.38\n",
            "9  49.78  49.21   77209748  49.41  49.78\n"
          ]
        }
      ]
    },
    {
      "cell_type": "code",
      "source": [
        "from sklearn.preprocessing import MinMaxScaler\n",
        "sc = MinMaxScaler(feature_range=(0,1))"
      ],
      "metadata": {
        "id": "P1bZPWz_EYhu"
      },
      "execution_count": 139,
      "outputs": []
    },
    {
      "cell_type": "code",
      "source": [
        "# Define the hyperparameters. These values will change based on the experiment \n",
        "hidden_layer_size = 64 # set hidden layer neurons\n",
        "input_dimension = 4 # set number of input layer dimension \n",
        "l_r = 0.0001 # set learning rate\n",
        "epochs = 100 # number of iterations\n",
        "#################\n",
        "scale_factor = 0.01 #to multiply the initial random weight values with small factor\n",
        "# Define size of training set and size of testing set (80% training, 20% testing)\n",
        "s = int(len(data_set) * 0.8)\n",
        "# initialize weight matrices and biases with random numbers\n",
        "input_hidden = np.random.randn(hidden_layer_size, input_dimension) * scale_factor # input to hidden weight\n",
        "hidden_hidden = np.random.randn(hidden_layer_size, hidden_layer_size) * scale_factor # recurrent weight\n",
        "hidden_output = np.random.randn(1, hidden_layer_size) * scale_factor # hidden to output determine by how much of hidden layer size\n",
        "hidden_bias = np.zeros((hidden_layer_size, 1)) # hidden layer bias\n",
        "output_bias = np.zeros((1, 1)) # output layer bias\n",
        "# defind the forward pass function\n",
        "def forward_pass(X, Y, hidden_state): \n",
        "    # X is an input sequence, \n",
        "    # Y is an output of that input sequence\n",
        "    # hidden_state is a hidden state of weights\n",
        "\n",
        "    # to store the store variables   \n",
        "    store = {}  \n",
        "    # initialize the hidden state and the loss  \n",
        "    # store the hidden state \n",
        "    store['hidden'] = {}\n",
        "    # store the input \n",
        "    store['input'] = {}\n",
        "    # create a temporary hidden state form the preveious hidden state\n",
        "    store['hidden'][-1] = np.copy(hidden_state)\n",
        "    # set the loss to 0\n",
        "    loss = 0\n",
        "    # loop for forward pass\n",
        "    for t in range(len(X)):\n",
        "        # store the input in time step\n",
        "        store['input'][t] = X[t].reshape(-1, 1)\n",
        "        # store the hidden state in time step\n",
        "        store['hidden'][t] = np.tanh(np.dot(input_hidden, store['input'][t]) + np.dot(hidden_hidden, store['hidden'][t-1]) + hidden_bias)\n",
        "        # calculate the predicted ouput\n",
        "        Y_pred = np.dot(hidden_output, store['hidden'][t]) + output_bias\n",
        "        # calculate the update loss\n",
        "        loss += (Y[t] - Y_pred)**2\n",
        "    # this is store the predicted ouput    \n",
        "    store['loss'] = loss    \n",
        "    # this is store the loss  \n",
        "    store['Y_pred'] = Y_pred    \n",
        "    return store\n",
        "# defind the backward pass function\n",
        "def backward_pass(X, Y, store):\n",
        "    # X is the input sequence\n",
        "    # Y is an output of that input sequence\n",
        "    # initialize the gradients\n",
        "      # input to hidden gradient\n",
        "    input_hidden_grad = np.zeros_like(input_hidden)      \n",
        "      # hidden to hidden gradient\n",
        "    hidden_hidden_grad = np.zeros_like(hidden_hidden)\n",
        "      # hidden to output gradient    \n",
        "    hidden_output_grad = np.zeros_like(hidden_output) \n",
        "      # hidden layer bias gradient   \n",
        "    hidden_bias_grad = np.zeros_like(hidden_bias) \n",
        "      # output layer bias gradient       \n",
        "    output_bias_grad = np.zeros_like(output_bias)   \n",
        "      # next hidden state gradient     \n",
        "    next_hidden_grad = np.zeros_like(store['hidden'][0]) \n",
        "    # loop for backward pass\n",
        "    for t in reversed(range(len(X))):\n",
        "        # calcualte the derivative of the loss\n",
        "        dy = -2 * (Y[t] - store['Y_pred'])\n",
        "        hidden_output_grad += np.dot(dy, store['hidden'][t].T)\n",
        "        output_bias_grad += dy\n",
        "        # calculate the derivative of the hidden state\n",
        "        delta_hidden = np.dot(hidden_output.T, dy) + next_hidden_grad\n",
        "        raw_hidden = (1 - store['hidden'][t]**2) * delta_hidden\n",
        "        # Update the gradients for the hidden layer\n",
        "        hidden_bias_grad += raw_hidden\n",
        "        input_hidden_grad += np.dot(raw_hidden, store['input'][t].T)\n",
        "        hidden_hidden_grad += np.dot(raw_hidden, store['hidden'][t-1].T)\n",
        "        next_hidden_grad = np.dot(hidden_hidden.T, raw_hidden)\n",
        "    # clip the gradients to prevent it from becoming too large during training\n",
        "    for dparam in [input_hidden_grad, hidden_hidden_grad, hidden_output_grad, hidden_bias_grad, output_bias_grad]:\n",
        "        np.clip(dparam, -5, 5, out=dparam)        \n",
        "    return input_hidden_grad, hidden_hidden_grad, hidden_output_grad, hidden_bias_grad, output_bias_grad\n",
        "# set the initial hidden state to None\n",
        "hidden_state = np.zeros((hidden_layer_size, 1))\n",
        "data = data_set\n",
        "data = sc.fit_transform(data)\n",
        "data = pd.DataFrame(data)\n",
        "#split the dataset into testing and training\n",
        "X = np.array(data.iloc[:, :-1])[:s]                     #Training set for the input attributes\n",
        "X_test = np.array(data.iloc[:, :-1])[s:]                #Testing set for the input attributes\n",
        "Y = np.array(data.iloc[:, -1]).reshape(-1, 1)[:s]       #Training set for output\n",
        "Y_test = np.array(data.iloc[:, -1]).reshape(-1, 1)[s:]  #Testing set for output\n",
        "# create an empty list for loss\n",
        "loss_his = []\n",
        "test_loss_his = []\n",
        "#training \n",
        "for i in range(epochs):    \n",
        "    store = forward_pass(X, Y, hidden_state)\n",
        "    input_hidden_grad, hidden_hidden_grad, hidden_output_grad, hidden_bias_grad, output_bias_grad = backward_pass(X, Y, store)\n",
        "    input_hidden = input_hidden - (l_r * input_hidden_grad)\n",
        "    hidden_hidden = hidden_hidden - (l_r * hidden_hidden_grad)\n",
        "    hidden_output = hidden_output - (l_r * hidden_output_grad)\n",
        "    hidden_bias = hidden_bias - (l_r * hidden_bias_grad)\n",
        "    output_bias = output_bias - (l_r * output_bias_grad)\n",
        "    hidden_state = store['hidden'][len(X) - 1]\n",
        "    # adding the value of the loss\n",
        "    loss_his.append(store['loss'])\n",
        "    # compute loss on testing set \n",
        "    test_store = forward_pass(X_test, Y_test, hidden_state)\n",
        "    test_loss = test_store['loss'][0][0] \n",
        "    test_loss_his.append(test_loss)\n",
        "\n",
        "    if i % 10 == 0:\n",
        "        print('Training Loss:', store['loss'])\n",
        "        print('Test Loss:', test_loss)\n",
        "# flatten the loss history arrays\n",
        "train_losses = np.array(loss_his).flatten()\n",
        "test_losses = np.array(test_loss_his).flatten()"
      ],
      "metadata": {
        "colab": {
          "base_uri": "https://localhost:8080/"
        },
        "id": "pIs9rzt2Ga2T",
        "outputId": "f2c453b5-6794-40ed-ed72-9dd06f1470fc"
      },
      "execution_count": 140,
      "outputs": [
        {
          "output_type": "stream",
          "name": "stdout",
          "text": [
            "Training Loss: [[206.91218674]]\n",
            "Test Loss: 157.21972295222253\n",
            "Training Loss: [[194.54253416]]\n",
            "Test Loss: 149.47650322347016\n",
            "Training Loss: [[177.25934202]]\n",
            "Test Loss: 138.31002435190686\n",
            "Training Loss: [[153.99234064]]\n",
            "Test Loss: 122.88456108056258\n",
            "Training Loss: [[124.56274605]]\n",
            "Test Loss: 102.70059559929452\n",
            "Training Loss: [[89.4331856]]\n",
            "Test Loss: 77.37202465991163\n",
            "Training Loss: [[52.21930291]]\n",
            "Test Loss: 48.206255858903994\n",
            "Training Loss: [[27.30739399]]\n",
            "Test Loss: 26.33358938355274\n",
            "Training Loss: [[18.44536695]]\n",
            "Test Loss: 18.275664490724985\n",
            "Training Loss: [[15.29472208]]\n",
            "Test Loss: 15.453920425172205\n"
          ]
        }
      ]
    },
    {
      "cell_type": "code",
      "source": [
        "# plot\n",
        "plt.plot(train_losses, label='Training Loss')\n",
        "plt.plot(test_losses, label='Testing Loss')\n",
        "plt.xlabel('Iterations')\n",
        "plt.ylabel('Loss')\n",
        "plt.legend()\n",
        "plt.show()       \n",
        "# predict the test set\n",
        "Y_preds = []\n",
        "for t in range(len(X_test)):\n",
        "    #obtain values from the forward pass on the testing sets\n",
        "    store = forward_pass([X_test[t]], [Y_test[t]], hidden_state)\n",
        "    #append the prediction values of Y\n",
        "    Y_preds.append(store['Y_pred'])\n",
        "# calculate the MSE\n",
        "MSE = np.mean((Y_test - Y_preds)**2)\n",
        "print('Mean Squared Error:', MSE)"
      ],
      "metadata": {
        "colab": {
          "base_uri": "https://localhost:8080/",
          "height": 466
        },
        "id": "xqg8BdXI50iQ",
        "outputId": "54dc0ac1-c5ea-4022-d21f-3ecc79d6cb22"
      },
      "execution_count": 141,
      "outputs": [
        {
          "output_type": "display_data",
          "data": {
            "text/plain": [
              "<Figure size 640x480 with 1 Axes>"
            ],
            "image/png": "[encoded data removed]"
          },
          "metadata": {}
        },
        {
          "output_type": "stream",
          "name": "stdout",
          "text": [
            "Mean Squared Error: 0.07620259274217342\n"
          ]
        }
      ]
    },
    {
      "cell_type": "code",
      "source": [
        "min_val = 45.05             #Min value in the dataframe\n",
        "max_val = 161.06            #Max value in the dataframe\n",
        "results = []                #denormalization of values\n",
        "for i in Y_preds:\n",
        "  results.append((i * (max_val - min_val)) + min_val)   #use previous values of min and max to get the prediction denormalized\n",
        "print(results)"
      ],
      "metadata": {
        "colab": {
          "base_uri": "https://localhost:8080/"
        },
        "id": "dU1yFB5eOruf",
        "outputId": "e0171329-949d-4cc3-8625-1575f75f78fb"
      },
      "execution_count": 142,
      "outputs": [
        {
          "output_type": "stream",
          "name": "stdout",
          "text": [
            "[array([[93.20880654]]), array([[92.97375613]]), array([[92.81216295]]), array([[92.61057549]]), array([[92.16176668]]), array([[92.05762369]]), array([[91.72940846]]), array([[88.34879754]]), array([[88.3989767]]), array([[87.30797022]]), array([[87.2922431]]), array([[87.68334752]]), array([[87.92730977]]), array([[87.38617256]]), array([[87.07187522]]), array([[87.21108088]]), array([[87.1607491]]), array([[87.25011968]]), array([[86.43052142]]), array([[86.12317772]]), array([[86.96289689]]), array([[87.54331204]]), array([[87.69809715]]), array([[87.69595434]]), array([[87.92150849]]), array([[88.45401848]]), array([[88.92747123]]), array([[89.50321096]]), array([[89.76638721]]), array([[89.8659235]]), array([[89.79516586]]), array([[89.59204595]]), array([[88.89420417]]), array([[89.13909639]]), array([[89.69200823]]), array([[89.78173174]]), array([[89.6779984]]), array([[89.61149216]]), array([[89.50937429]]), array([[89.2870129]]), array([[88.9951791]]), array([[89.10157415]]), array([[88.69030156]]), array([[88.33145552]]), array([[88.3166134]]), array([[88.09180451]]), array([[88.45931213]]), array([[88.3096362]]), array([[87.14241016]]), array([[86.90680007]]), array([[87.08903015]]), array([[87.57157954]]), array([[87.89341789]]), array([[88.30977864]]), array([[88.02846009]]), array([[87.93082799]]), array([[88.38637036]]), array([[88.58709761]]), array([[88.83872248]]), array([[88.95290651]]), array([[88.93608023]]), array([[89.11977914]]), array([[89.56472839]]), array([[89.63311354]]), array([[89.88614679]]), array([[90.05048826]]), array([[89.99075497]]), array([[89.59298293]]), array([[89.15532853]]), array([[88.70845962]]), array([[91.26641911]]), array([[91.32510332]]), array([[91.68975413]]), array([[91.98794809]]), array([[92.16174697]]), array([[92.08277883]]), array([[92.28845847]]), array([[92.66746033]]), array([[93.11831684]]), array([[93.41193768]]), array([[93.44759449]]), array([[93.42306377]]), array([[93.28645248]]), array([[93.49208546]]), array([[93.90218264]]), array([[93.63518904]]), array([[93.7893276]]), array([[93.63662838]]), array([[93.49891184]]), array([[93.60314259]]), array([[93.39793948]]), array([[92.98325864]]), array([[92.93419605]]), array([[92.76862002]]), array([[92.42608958]]), array([[92.41461722]]), array([[92.52040872]]), array([[93.05445238]]), array([[93.21184593]]), array([[93.1383265]]), array([[92.56793085]]), array([[91.7527643]]), array([[91.40998357]]), array([[93.03605841]]), array([[93.73609089]]), array([[95.53699763]]), array([[95.87987212]]), array([[95.93290413]]), array([[95.32381067]]), array([[95.39783311]]), array([[95.82266366]]), array([[95.39163146]]), array([[94.92804918]]), array([[95.2107316]]), array([[95.62378785]]), array([[95.19460764]]), array([[95.04061099]]), array([[95.15888195]]), array([[95.38749332]]), array([[95.38951224]]), array([[95.54837875]]), array([[95.72977236]]), array([[96.22994094]]), array([[96.92731285]]), array([[96.97291737]]), array([[96.69810834]]), array([[97.12857484]]), array([[97.01586683]]), array([[97.26489575]]), array([[96.61209058]]), array([[96.82878433]]), array([[96.75623303]]), array([[97.00134094]]), array([[97.1335034]]), array([[95.67542628]]), array([[96.08421437]]), array([[95.6917144]]), array([[95.54644491]]), array([[95.02660178]]), array([[94.71958913]]), array([[94.32460076]]), array([[93.62269488]]), array([[94.03919773]]), array([[94.30135813]]), array([[93.81729871]]), array([[93.6605714]]), array([[93.02379055]]), array([[92.55520563]]), array([[92.74518432]]), array([[93.05024125]]), array([[93.92133263]]), array([[94.03957823]]), array([[94.33196845]]), array([[94.83585244]]), array([[94.48457172]]), array([[94.699972]]), array([[94.76477121]]), array([[94.43720823]]), array([[94.56385738]]), array([[94.05759082]]), array([[93.80486639]]), array([[93.79413629]]), array([[93.93255363]]), array([[93.99169788]]), array([[94.57908816]]), array([[95.2763744]]), array([[95.5071305]]), array([[95.79790708]]), array([[96.20288836]]), array([[96.29905666]]), array([[96.47840859]]), array([[96.59345912]]), array([[96.88726176]]), array([[96.88499165]]), array([[96.54278774]]), array([[96.48684577]]), array([[96.88630841]]), array([[96.99988302]]), array([[96.78621328]]), array([[96.62828878]]), array([[96.31563892]]), array([[96.51197084]]), array([[96.57179408]]), array([[96.9086359]]), array([[97.42449302]]), array([[97.61500703]]), array([[97.71140055]]), array([[97.59830136]]), array([[97.7536861]]), array([[97.61915837]]), array([[98.12149094]]), array([[97.9325915]]), array([[98.13924394]]), array([[98.1783286]]), array([[97.98167734]]), array([[98.4302402]]), array([[98.84609555]]), array([[98.92184336]]), array([[98.4955752]]), array([[98.4060422]]), array([[100.99221284]]), array([[101.41187073]]), array([[101.51932939]]), array([[101.89239335]]), array([[102.4502545]]), array([[102.74326535]]), array([[102.77637086]]), array([[103.11030182]]), array([[103.39064717]]), array([[103.63479523]]), array([[104.23670691]]), array([[104.29250436]]), array([[104.24343063]]), array([[104.6233433]]), array([[104.73234839]]), array([[104.93213531]]), array([[104.48772441]]), array([[104.89451048]]), array([[104.92830934]]), array([[105.46120627]]), array([[105.95630922]]), array([[105.73163897]]), array([[105.80126128]]), array([[105.83303234]]), array([[105.79297133]]), array([[105.38121272]]), array([[105.74644686]]), array([[105.73586626]]), array([[105.83671461]]), array([[105.97722569]]), array([[106.37900138]]), array([[106.25874113]]), array([[106.38658987]]), array([[106.64350779]]), array([[106.2448369]]), array([[106.56683165]]), array([[106.57683234]]), array([[105.99338159]]), array([[106.79349856]]), array([[107.57855431]]), array([[107.72268935]]), array([[107.57164747]]), array([[107.55425276]]), array([[107.61198282]]), array([[107.86744351]]), array([[107.73225589]]), array([[107.6081594]]), array([[107.49241309]]), array([[106.90983992]]), array([[106.74078524]]), array([[106.82870068]]), array([[106.68654179]]), array([[106.7383856]]), array([[106.69688501]]), array([[106.80000611]]), array([[107.04690875]]), array([[107.53317353]]), array([[107.79767069]]), array([[107.7622709]]), array([[107.64637716]]), array([[107.65391835]]), array([[108.34215376]]), array([[108.98144435]]), array([[108.30274983]]), array([[108.67831657]]), array([[109.06303541]]), array([[110.19773394]]), array([[111.61666201]]), array([[111.34103487]]), array([[111.2225313]]), array([[112.11878522]]), array([[112.39981445]]), array([[112.29453653]]), array([[110.99814531]]), array([[110.78756591]]), array([[111.37679706]]), array([[111.59206106]]), array([[111.81888198]]), array([[111.50103708]]), array([[111.55764491]]), array([[111.60405702]]), array([[111.5629662]]), array([[111.45772079]]), array([[111.25404523]]), array([[111.62873521]]), array([[111.68196695]]), array([[111.84059836]]), array([[112.12665717]]), array([[112.0874565]]), array([[110.744406]]), array([[107.78993512]]), array([[108.67099066]]), array([[108.56108663]]), array([[107.38723258]]), array([[107.37155622]]), array([[107.92301071]]), array([[108.56743659]]), array([[108.2541887]]), array([[108.44766435]]), array([[108.35274283]]), array([[108.84926612]]), array([[108.05287355]]), array([[107.92802537]]), array([[107.67020466]]), array([[107.84756769]]), array([[107.89748712]]), array([[107.59038372]]), array([[107.27786608]]), array([[107.51421649]]), array([[107.88834385]]), array([[108.09621356]]), array([[108.32742031]]), array([[108.66600651]]), array([[109.37568794]]), array([[109.8444476]]), array([[109.83101331]]), array([[110.32710516]]), array([[110.55174465]]), array([[109.96849388]]), array([[110.46663324]]), array([[111.07494231]]), array([[111.47050655]]), array([[110.70196902]]), array([[110.00688961]]), array([[109.87055289]]), array([[109.72061296]]), array([[113.19959557]]), array([[112.6025282]]), array([[112.61432007]]), array([[113.06906763]]), array([[113.8056063]]), array([[113.97160516]]), array([[113.23769158]])]\n"
          ]
        }
      ]
    }
  ]
}